{
  "nbformat": 4,
  "nbformat_minor": 0,
  "metadata": {
    "colab": {
      "name": "Trump_tweet_rnn.ipynb",
      "provenance": [],
      "machine_shape": "hm"
    },
    "kernelspec": {
      "name": "python3",
      "display_name": "Python 3"
    },
    "accelerator": "GPU"
  },
  "cells": [
    {
      "cell_type": "markdown",
      "metadata": {
        "id": "Stz2e_-hxBQH"
      },
      "source": [
        "# Intro\n",
        "In this notebook we are interested in training a recurrent neural network (RNN) on Trump's tweets and try to generate \"Trump-like\" tweets. "
      ]
    },
    {
      "cell_type": "code",
      "metadata": {
        "id": "jcEROZPLwR2o"
      },
      "source": [
        "import os\n",
        "import requests\n",
        "import zipfile\n",
        "import tarfile\n",
        "import shutil\n",
        "import json\n",
        "import time\n",
        "import sys\n",
        "import string\n",
        "import re\n",
        "import numpy as np\n",
        "import pandas as pd\n",
        "from glob import glob\n",
        "from string import Template\n",
        "import matplotlib.pyplot as plt\n",
        "import seaborn as sns\n",
        "%matplotlib inline\n",
        "\n",
        "import tensorflow as tf\n",
        "from tensorflow import keras\n",
        "from tensorflow.python.keras import backend as K\n",
        "from tensorflow.keras.models import Model, Sequential\n",
        "from tensorflow.keras import layers\n",
        "from tensorflow.keras import activations\n",
        "from tensorflow.keras import optimizers\n",
        "from tensorflow.keras import losses\n",
        "from tensorflow.keras.layers.experimental.preprocessing import TextVectorization\n",
        "from tensorflow.python.ops import io_ops\n",
        "from tensorflow.keras.utils import to_categorical\n",
        "from keras.models import Sequential, Model\n",
        "from keras.layers import Dense\n",
        "from keras.layers import LSTM, SimpleRNN\n",
        "from keras.layers.embeddings import Embedding\n",
        "from keras.layers import Flatten\n",
        "from keras.preprocessing import sequence\n",
        "from keras.layers.convolutional import Conv1D\n",
        "from keras.layers.convolutional import MaxPooling1D\n",
        "\n",
        "\n",
        "from sklearn.model_selection import train_test_split\n",
        "from sklearn.metrics.pairwise import cosine_similarity"
      ],
      "execution_count": 218,
      "outputs": []
    },
    {
      "cell_type": "markdown",
      "metadata": {
        "id": "gqFXGTdXxkkD"
      },
      "source": [
        "## Read the data\n",
        "The data comes from http://www.trumptwitterarchive.com/archive. I find this website so interesting and amazing. I didn't scrape from twitter because sometimes Trumps delete some of his tweets, and this source archives those deleted tweets after 2016.    \n",
        "Let's do some EDA."
      ]
    },
    {
      "cell_type": "code",
      "metadata": {
        "id": "HvXhkoYCxaXI"
      },
      "source": [
        "trump_tweet=pd.read_json('trump_tweets_complete.json')\n",
        "trump_tweet['date']=pd.to_datetime(trump_tweet['date'])"
      ],
      "execution_count": 219,
      "outputs": []
    },
    {
      "cell_type": "code",
      "metadata": {
        "id": "d0YnWu3Axoo7",
        "outputId": "c4f74d2c-b10e-4d8d-ba28-f5e65bb15e12",
        "colab": {
          "base_uri": "https://localhost:8080/",
          "height": 34
        }
      },
      "source": [
        "trump_tweet.shape"
      ],
      "execution_count": 220,
      "outputs": [
        {
          "output_type": "execute_result",
          "data": {
            "text/plain": [
              "(54442, 8)"
            ]
          },
          "metadata": {
            "tags": []
          },
          "execution_count": 220
        }
      ]
    },
    {
      "cell_type": "code",
      "metadata": {
        "id": "2YHXvd2Zxq6g",
        "outputId": "15fbb020-cce6-4e81-c11f-d0c73dd612a3",
        "colab": {
          "base_uri": "https://localhost:8080/",
          "height": 67
        }
      },
      "source": [
        "trump_tweet.columns"
      ],
      "execution_count": 221,
      "outputs": [
        {
          "output_type": "execute_result",
          "data": {
            "text/plain": [
              "Index(['id', 'text', 'isRetweet', 'isDeleted', 'device', 'favorites',\n",
              "       'retweets', 'date'],\n",
              "      dtype='object')"
            ]
          },
          "metadata": {
            "tags": []
          },
          "execution_count": 221
        }
      ]
    },
    {
      "cell_type": "code",
      "metadata": {
        "id": "aEWLBsuhyNDr",
        "outputId": "861458bd-c396-4f13-c809-4c7ca5df530d",
        "colab": {
          "base_uri": "https://localhost:8080/",
          "height": 188
        }
      },
      "source": [
        "trump_tweet.date.describe()"
      ],
      "execution_count": 222,
      "outputs": [
        {
          "output_type": "stream",
          "text": [
            "/usr/local/lib/python3.6/dist-packages/ipykernel_launcher.py:1: FutureWarning: Treating datetime data as categorical rather than numeric in `.describe` is deprecated and will be removed in a future version of pandas. Specify `datetime_is_numeric=True` to silence this warning and adopt the future behavior now.\n",
            "  \"\"\"Entry point for launching an IPython kernel.\n"
          ],
          "name": "stderr"
        },
        {
          "output_type": "execute_result",
          "data": {
            "text/plain": [
              "count                   54442\n",
              "unique                  53934\n",
              "top       2020-05-31 02:27:36\n",
              "freq                        7\n",
              "first     2009-05-04 18:54:25\n",
              "last      2020-10-24 20:13:08\n",
              "Name: date, dtype: object"
            ]
          },
          "metadata": {
            "tags": []
          },
          "execution_count": 222
        }
      ]
    },
    {
      "cell_type": "markdown",
      "metadata": {
        "id": "5DimrUI7yHwL"
      },
      "source": [
        "There are 54442 tweets in total, from 2009-05-04 to 2020-10-24 (the latest archive).   "
      ]
    },
    {
      "cell_type": "code",
      "metadata": {
        "id": "qZ5V5Szbzj8K",
        "outputId": "f904d4e8-f464-40b8-a18f-06dae69e3681",
        "colab": {
          "base_uri": "https://localhost:8080/",
          "height": 343
        }
      },
      "source": [
        "trump_tweet.head(10)"
      ],
      "execution_count": 223,
      "outputs": [
        {
          "output_type": "execute_result",
          "data": {
            "text/html": [
              "<div>\n",
              "<style scoped>\n",
              "    .dataframe tbody tr th:only-of-type {\n",
              "        vertical-align: middle;\n",
              "    }\n",
              "\n",
              "    .dataframe tbody tr th {\n",
              "        vertical-align: top;\n",
              "    }\n",
              "\n",
              "    .dataframe thead th {\n",
              "        text-align: right;\n",
              "    }\n",
              "</style>\n",
              "<table border=\"1\" class=\"dataframe\">\n",
              "  <thead>\n",
              "    <tr style=\"text-align: right;\">\n",
              "      <th></th>\n",
              "      <th>id</th>\n",
              "      <th>text</th>\n",
              "      <th>isRetweet</th>\n",
              "      <th>isDeleted</th>\n",
              "      <th>device</th>\n",
              "      <th>favorites</th>\n",
              "      <th>retweets</th>\n",
              "      <th>date</th>\n",
              "    </tr>\n",
              "  </thead>\n",
              "  <tbody>\n",
              "    <tr>\n",
              "      <th>0</th>\n",
              "      <td>98454970654916600</td>\n",
              "      <td>Republicans and Democrats have both created ou...</td>\n",
              "      <td>f</td>\n",
              "      <td>f</td>\n",
              "      <td>TweetDeck</td>\n",
              "      <td>49</td>\n",
              "      <td>255</td>\n",
              "      <td>2011-08-02 18:07:48</td>\n",
              "    </tr>\n",
              "    <tr>\n",
              "      <th>1</th>\n",
              "      <td>1234653427789070300</td>\n",
              "      <td>I was thrilled to be back in the Great city of...</td>\n",
              "      <td>f</td>\n",
              "      <td>f</td>\n",
              "      <td>Twitter for iPhone</td>\n",
              "      <td>73748</td>\n",
              "      <td>17404</td>\n",
              "      <td>2020-03-03 01:34:50</td>\n",
              "    </tr>\n",
              "    <tr>\n",
              "      <th>2</th>\n",
              "      <td>1218010753434820600</td>\n",
              "      <td>RT @CBS_Herridge: READ: Letter to surveillance...</td>\n",
              "      <td>t</td>\n",
              "      <td>f</td>\n",
              "      <td>Twitter for iPhone</td>\n",
              "      <td>0</td>\n",
              "      <td>7396</td>\n",
              "      <td>2020-01-17 03:22:47</td>\n",
              "    </tr>\n",
              "    <tr>\n",
              "      <th>3</th>\n",
              "      <td>1304875170860015600</td>\n",
              "      <td>The Unsolicited Mail In Ballot Scam is a major...</td>\n",
              "      <td>f</td>\n",
              "      <td>f</td>\n",
              "      <td>Twitter for iPhone</td>\n",
              "      <td>80527</td>\n",
              "      <td>23502</td>\n",
              "      <td>2020-09-12 20:10:58</td>\n",
              "    </tr>\n",
              "    <tr>\n",
              "      <th>4</th>\n",
              "      <td>1218159531554898000</td>\n",
              "      <td>RT @MZHemingway: Very friendly telling of even...</td>\n",
              "      <td>t</td>\n",
              "      <td>f</td>\n",
              "      <td>Twitter for iPhone</td>\n",
              "      <td>0</td>\n",
              "      <td>9081</td>\n",
              "      <td>2020-01-17 13:13:59</td>\n",
              "    </tr>\n",
              "    <tr>\n",
              "      <th>5</th>\n",
              "      <td>1319761576996573200</td>\n",
              "      <td>THANK YOU to all of the Great American Patriot...</td>\n",
              "      <td>f</td>\n",
              "      <td>f</td>\n",
              "      <td>Twitter for iPhone</td>\n",
              "      <td>100564</td>\n",
              "      <td>18992</td>\n",
              "      <td>2020-10-23 22:04:14</td>\n",
              "    </tr>\n",
              "    <tr>\n",
              "      <th>6</th>\n",
              "      <td>1217962723234984000</td>\n",
              "      <td>RT @WhiteHouse: President @realDonaldTrump ann...</td>\n",
              "      <td>t</td>\n",
              "      <td>f</td>\n",
              "      <td>Twitter for iPhone</td>\n",
              "      <td>0</td>\n",
              "      <td>25048</td>\n",
              "      <td>2020-01-17 00:11:56</td>\n",
              "    </tr>\n",
              "    <tr>\n",
              "      <th>7</th>\n",
              "      <td>1315779944002199600</td>\n",
              "      <td>“I’m running as a proud Democrat, for the Sena...</td>\n",
              "      <td>f</td>\n",
              "      <td>f</td>\n",
              "      <td>Twitter for iPhone</td>\n",
              "      <td>149007</td>\n",
              "      <td>34897</td>\n",
              "      <td>2020-10-12 22:22:39</td>\n",
              "    </tr>\n",
              "    <tr>\n",
              "      <th>8</th>\n",
              "      <td>1223640662689689600</td>\n",
              "      <td>Getting a little exercise this morning! https:...</td>\n",
              "      <td>f</td>\n",
              "      <td>f</td>\n",
              "      <td>Twitter for iPhone</td>\n",
              "      <td>285863</td>\n",
              "      <td>30209</td>\n",
              "      <td>2020-02-01 16:14:02</td>\n",
              "    </tr>\n",
              "    <tr>\n",
              "      <th>9</th>\n",
              "      <td>1319727996882702300</td>\n",
              "      <td>https://t.co/LCQcdlRkhz</td>\n",
              "      <td>f</td>\n",
              "      <td>f</td>\n",
              "      <td>Twitter for iPhone</td>\n",
              "      <td>54469</td>\n",
              "      <td>14126</td>\n",
              "      <td>2020-10-23 19:50:48</td>\n",
              "    </tr>\n",
              "  </tbody>\n",
              "</table>\n",
              "</div>"
            ],
            "text/plain": [
              "                    id  ...                date\n",
              "0    98454970654916600  ... 2011-08-02 18:07:48\n",
              "1  1234653427789070300  ... 2020-03-03 01:34:50\n",
              "2  1218010753434820600  ... 2020-01-17 03:22:47\n",
              "3  1304875170860015600  ... 2020-09-12 20:10:58\n",
              "4  1218159531554898000  ... 2020-01-17 13:13:59\n",
              "5  1319761576996573200  ... 2020-10-23 22:04:14\n",
              "6  1217962723234984000  ... 2020-01-17 00:11:56\n",
              "7  1315779944002199600  ... 2020-10-12 22:22:39\n",
              "8  1223640662689689600  ... 2020-02-01 16:14:02\n",
              "9  1319727996882702300  ... 2020-10-23 19:50:48\n",
              "\n",
              "[10 rows x 8 columns]"
            ]
          },
          "metadata": {
            "tags": []
          },
          "execution_count": 223
        }
      ]
    },
    {
      "cell_type": "markdown",
      "metadata": {
        "id": "cM2yhgUs1THa"
      },
      "source": [
        "We can clean the tweets text. "
      ]
    },
    {
      "cell_type": "code",
      "metadata": {
        "id": "TnpizrSv1Q5F"
      },
      "source": [
        "def clean_test(text):\n",
        "    text=text.lower()\n",
        "    text=text.encode('ascii', 'ignore').decode('ascii')#remove emoji\n",
        "    text=text.replace('&amp;',\"and\")#remove \"&amp\"\n",
        "    return re.sub('[a-zA-z]+://[^\\s]*','',text).strip().replace('\\n',' ')#remove url links and newline\n",
        "\n",
        "trump_tweet.text=trump_tweet.text.map(clean_test) "
      ],
      "execution_count": 224,
      "outputs": []
    },
    {
      "cell_type": "code",
      "metadata": {
        "id": "j3snvWNTyGAA",
        "outputId": "2dcd1604-d346-4889-eb9d-922bf891855b",
        "colab": {
          "base_uri": "https://localhost:8080/",
          "height": 50
        }
      },
      "source": [
        "print('Retweet: {:.2f}%'.format(np.mean(trump_tweet.isRetweet=='t')*100))\n",
        "print('Deleted: {:.2f}%'.format(np.mean(trump_tweet.isDeleted=='t')*100))"
      ],
      "execution_count": 225,
      "outputs": [
        {
          "output_type": "stream",
          "text": [
            "Retweet: 16.85%\n",
            "Deleted: 1.91%\n"
          ],
          "name": "stdout"
        }
      ]
    },
    {
      "cell_type": "markdown",
      "metadata": {
        "id": "j94UQFoL0fDR"
      },
      "source": [
        "To better emulate how Trump speaks on Twitter, we can remove the retweets."
      ]
    },
    {
      "cell_type": "code",
      "metadata": {
        "id": "rwylji010ePY"
      },
      "source": [
        "trump_no_ret=trump_tweet[trump_tweet.isRetweet=='f']"
      ],
      "execution_count": 226,
      "outputs": []
    },
    {
      "cell_type": "code",
      "metadata": {
        "id": "_SCDHjVjzt8S",
        "outputId": "c7121596-fe62-4ff9-bf4c-88375e118d45",
        "colab": {
          "base_uri": "https://localhost:8080/",
          "height": 34
        }
      },
      "source": [
        "trump_no_ret.shape"
      ],
      "execution_count": 227,
      "outputs": [
        {
          "output_type": "execute_result",
          "data": {
            "text/plain": [
              "(45270, 8)"
            ]
          },
          "metadata": {
            "tags": []
          },
          "execution_count": 227
        }
      ]
    },
    {
      "cell_type": "code",
      "metadata": {
        "id": "9cZ8quh61bpA",
        "outputId": "2a0a25fe-c3be-42f7-d726-137be8cd27af",
        "colab": {
          "base_uri": "https://localhost:8080/",
          "height": 195
        }
      },
      "source": [
        "trump_no_ret.head()"
      ],
      "execution_count": 228,
      "outputs": [
        {
          "output_type": "execute_result",
          "data": {
            "text/html": [
              "<div>\n",
              "<style scoped>\n",
              "    .dataframe tbody tr th:only-of-type {\n",
              "        vertical-align: middle;\n",
              "    }\n",
              "\n",
              "    .dataframe tbody tr th {\n",
              "        vertical-align: top;\n",
              "    }\n",
              "\n",
              "    .dataframe thead th {\n",
              "        text-align: right;\n",
              "    }\n",
              "</style>\n",
              "<table border=\"1\" class=\"dataframe\">\n",
              "  <thead>\n",
              "    <tr style=\"text-align: right;\">\n",
              "      <th></th>\n",
              "      <th>id</th>\n",
              "      <th>text</th>\n",
              "      <th>isRetweet</th>\n",
              "      <th>isDeleted</th>\n",
              "      <th>device</th>\n",
              "      <th>favorites</th>\n",
              "      <th>retweets</th>\n",
              "      <th>date</th>\n",
              "    </tr>\n",
              "  </thead>\n",
              "  <tbody>\n",
              "    <tr>\n",
              "      <th>0</th>\n",
              "      <td>98454970654916600</td>\n",
              "      <td>republicans and democrats have both created ou...</td>\n",
              "      <td>f</td>\n",
              "      <td>f</td>\n",
              "      <td>TweetDeck</td>\n",
              "      <td>49</td>\n",
              "      <td>255</td>\n",
              "      <td>2011-08-02 18:07:48</td>\n",
              "    </tr>\n",
              "    <tr>\n",
              "      <th>1</th>\n",
              "      <td>1234653427789070300</td>\n",
              "      <td>i was thrilled to be back in the great city of...</td>\n",
              "      <td>f</td>\n",
              "      <td>f</td>\n",
              "      <td>Twitter for iPhone</td>\n",
              "      <td>73748</td>\n",
              "      <td>17404</td>\n",
              "      <td>2020-03-03 01:34:50</td>\n",
              "    </tr>\n",
              "    <tr>\n",
              "      <th>3</th>\n",
              "      <td>1304875170860015600</td>\n",
              "      <td>the unsolicited mail in ballot scam is a major...</td>\n",
              "      <td>f</td>\n",
              "      <td>f</td>\n",
              "      <td>Twitter for iPhone</td>\n",
              "      <td>80527</td>\n",
              "      <td>23502</td>\n",
              "      <td>2020-09-12 20:10:58</td>\n",
              "    </tr>\n",
              "    <tr>\n",
              "      <th>5</th>\n",
              "      <td>1319761576996573200</td>\n",
              "      <td>thank you to all of the great american patriot...</td>\n",
              "      <td>f</td>\n",
              "      <td>f</td>\n",
              "      <td>Twitter for iPhone</td>\n",
              "      <td>100564</td>\n",
              "      <td>18992</td>\n",
              "      <td>2020-10-23 22:04:14</td>\n",
              "    </tr>\n",
              "    <tr>\n",
              "      <th>7</th>\n",
              "      <td>1315779944002199600</td>\n",
              "      <td>im running as a proud democrat, for the senate...</td>\n",
              "      <td>f</td>\n",
              "      <td>f</td>\n",
              "      <td>Twitter for iPhone</td>\n",
              "      <td>149007</td>\n",
              "      <td>34897</td>\n",
              "      <td>2020-10-12 22:22:39</td>\n",
              "    </tr>\n",
              "  </tbody>\n",
              "</table>\n",
              "</div>"
            ],
            "text/plain": [
              "                    id  ...                date\n",
              "0    98454970654916600  ... 2011-08-02 18:07:48\n",
              "1  1234653427789070300  ... 2020-03-03 01:34:50\n",
              "3  1304875170860015600  ... 2020-09-12 20:10:58\n",
              "5  1319761576996573200  ... 2020-10-23 22:04:14\n",
              "7  1315779944002199600  ... 2020-10-12 22:22:39\n",
              "\n",
              "[5 rows x 8 columns]"
            ]
          },
          "metadata": {
            "tags": []
          },
          "execution_count": 228
        }
      ]
    },
    {
      "cell_type": "markdown",
      "metadata": {
        "id": "MrZ93XgA3Npo"
      },
      "source": [
        "We are not interested in the \"device\", \"favourites\" or \"retweets\"."
      ]
    },
    {
      "cell_type": "code",
      "metadata": {
        "id": "RvcocPY12-Sy"
      },
      "source": [
        "trump_no_ret=trump_no_ret.iloc[:,[0,1,7]]"
      ],
      "execution_count": 229,
      "outputs": []
    },
    {
      "cell_type": "code",
      "metadata": {
        "id": "jABR7LRj3g_d"
      },
      "source": [
        "trump_no_ret['text_len']=trump_no_ret.text.map(lambda x: len(x.split()))"
      ],
      "execution_count": 230,
      "outputs": []
    },
    {
      "cell_type": "code",
      "metadata": {
        "id": "YTXrZlSF3iGf",
        "outputId": "8371a72c-b06e-4e0a-9e2b-aafaa6458796",
        "colab": {
          "base_uri": "https://localhost:8080/",
          "height": 195
        }
      },
      "source": [
        "trump_no_ret.head()"
      ],
      "execution_count": 231,
      "outputs": [
        {
          "output_type": "execute_result",
          "data": {
            "text/html": [
              "<div>\n",
              "<style scoped>\n",
              "    .dataframe tbody tr th:only-of-type {\n",
              "        vertical-align: middle;\n",
              "    }\n",
              "\n",
              "    .dataframe tbody tr th {\n",
              "        vertical-align: top;\n",
              "    }\n",
              "\n",
              "    .dataframe thead th {\n",
              "        text-align: right;\n",
              "    }\n",
              "</style>\n",
              "<table border=\"1\" class=\"dataframe\">\n",
              "  <thead>\n",
              "    <tr style=\"text-align: right;\">\n",
              "      <th></th>\n",
              "      <th>id</th>\n",
              "      <th>text</th>\n",
              "      <th>date</th>\n",
              "      <th>text_len</th>\n",
              "    </tr>\n",
              "  </thead>\n",
              "  <tbody>\n",
              "    <tr>\n",
              "      <th>0</th>\n",
              "      <td>98454970654916600</td>\n",
              "      <td>republicans and democrats have both created ou...</td>\n",
              "      <td>2011-08-02 18:07:48</td>\n",
              "      <td>9</td>\n",
              "    </tr>\n",
              "    <tr>\n",
              "      <th>1</th>\n",
              "      <td>1234653427789070300</td>\n",
              "      <td>i was thrilled to be back in the great city of...</td>\n",
              "      <td>2020-03-03 01:34:50</td>\n",
              "      <td>42</td>\n",
              "    </tr>\n",
              "    <tr>\n",
              "      <th>3</th>\n",
              "      <td>1304875170860015600</td>\n",
              "      <td>the unsolicited mail in ballot scam is a major...</td>\n",
              "      <td>2020-09-12 20:10:58</td>\n",
              "      <td>49</td>\n",
              "    </tr>\n",
              "    <tr>\n",
              "      <th>5</th>\n",
              "      <td>1319761576996573200</td>\n",
              "      <td>thank you to all of the great american patriot...</td>\n",
              "      <td>2020-10-23 22:04:14</td>\n",
              "      <td>14</td>\n",
              "    </tr>\n",
              "    <tr>\n",
              "      <th>7</th>\n",
              "      <td>1315779944002199600</td>\n",
              "      <td>im running as a proud democrat, for the senate...</td>\n",
              "      <td>2020-10-12 22:22:39</td>\n",
              "      <td>31</td>\n",
              "    </tr>\n",
              "  </tbody>\n",
              "</table>\n",
              "</div>"
            ],
            "text/plain": [
              "                    id  ... text_len\n",
              "0    98454970654916600  ...        9\n",
              "1  1234653427789070300  ...       42\n",
              "3  1304875170860015600  ...       49\n",
              "5  1319761576996573200  ...       14\n",
              "7  1315779944002199600  ...       31\n",
              "\n",
              "[5 rows x 4 columns]"
            ]
          },
          "metadata": {
            "tags": []
          },
          "execution_count": 231
        }
      ]
    },
    {
      "cell_type": "code",
      "metadata": {
        "id": "ksN9SMe533Hg",
        "outputId": "d31d5165-484a-4b29-b763-313b407b67be",
        "colab": {
          "base_uri": "https://localhost:8080/",
          "height": 281
        }
      },
      "source": [
        "plt.hist(trump_no_ret.text_len,bins='auto');\n",
        "plt.title('Length of Trump tweet in words');"
      ],
      "execution_count": 232,
      "outputs": [
        {
          "output_type": "display_data",
          "data": {
            "image/png": "[encoded data removed]",
            "text/plain": [
              "<Figure size 432x288 with 1 Axes>"
            ]
          },
          "metadata": {
            "tags": [],
            "needs_background": "light"
          }
        }
      ]
    },
    {
      "cell_type": "code",
      "metadata": {
        "id": "K1sBnXy94O26",
        "outputId": "59e5ff6e-98f7-4640-e946-6b698b804781",
        "colab": {
          "base_uri": "https://localhost:8080/",
          "height": 34
        }
      },
      "source": [
        "max(trump_no_ret.text_len)"
      ],
      "execution_count": 233,
      "outputs": [
        {
          "output_type": "execute_result",
          "data": {
            "text/plain": [
              "60"
            ]
          },
          "metadata": {
            "tags": []
          },
          "execution_count": 233
        }
      ]
    },
    {
      "cell_type": "markdown",
      "metadata": {
        "id": "xuOWvwP1_Fiv"
      },
      "source": [
        "To train an RNN, we need to prepare input and output. In this case, we want to have our input as several consecutive words/punctuations from a sentence/tweet, and the output is the next word/punctuation in that sentence.  "
      ]
    },
    {
      "cell_type": "code",
      "metadata": {
        "id": "Utc1fT5j-3Zs",
        "outputId": "a660256f-6032-4ed3-8d1c-861763b18b3b",
        "colab": {
          "base_uri": "https://localhost:8080/",
          "height": 87
        }
      },
      "source": [
        "for x in tf.data.Dataset.from_tensor_slices(trump_no_ret.text).take(3):\n",
        "  print(x)"
      ],
      "execution_count": 234,
      "outputs": [
        {
          "output_type": "stream",
          "text": [
            "tf.Tensor(b'republicans and democrats have both created our economic problems.', shape=(), dtype=string)\n",
            "tf.Tensor(b'i was thrilled to be back in the great city of charlotte, north carolina with thousands of hardworking american patriots who love our country, cherish our values, respect our laws, and always put america first! thank you for a wonderful evening!! #kag2020', shape=(), dtype=string)\n",
            "tf.Tensor(b'the unsolicited mail in ballot scam is a major threat to our democracy, and the democrats know it. almost all recent elections using this system, even though much smaller and  with far fewer ballots to count, have ended up being a disaster. large numbers of missing ballots and fraud!', shape=(), dtype=string)\n"
          ],
          "name": "stdout"
        }
      ]
    },
    {
      "cell_type": "code",
      "metadata": {
        "id": "0Bp2jdnhFkCq"
      },
      "source": [
        "def keep_punc(text):\n",
        "  text=text.replace('.',' . ')\n",
        "  text=text.replace('?',' ? ')\n",
        "  text=text.replace(',',' , ')\n",
        "  text=text.replace('!',' ! ')\n",
        "  text=text.replace(';',' ; ')\n",
        "  text=text.replace(':',' : ')\n",
        "  return text\n"
      ],
      "execution_count": 255,
      "outputs": []
    },
    {
      "cell_type": "code",
      "metadata": {
        "id": "jnLS6pbKF7i1"
      },
      "source": [
        "trump_no_ret.text=trump_no_ret.text.map(keep_punc)"
      ],
      "execution_count": 257,
      "outputs": []
    },
    {
      "cell_type": "code",
      "metadata": {
        "id": "_fwISMzsKBZ3"
      },
      "source": [
        "text_vectorizer = TextVectorization(\n",
        "    standardize=None,\n",
        "    output_mode=\"int\"\n",
        ")"
      ],
      "execution_count": 258,
      "outputs": []
    },
    {
      "cell_type": "code",
      "metadata": {
        "id": "E-KeC_Q2Kma6",
        "outputId": "8fc59e19-76b3-42b4-d917-7b79daf10965",
        "colab": {
          "base_uri": "https://localhost:8080/",
          "height": 34
        }
      },
      "source": [
        "text_data=tf.data.Dataset.from_tensor_slices(trump_no_ret.text)\n",
        "\n",
        "start_time = time.time()\n",
        "text_vectorizer.adapt(text_data.batch(64))\n",
        "execution_time = (time.time() - start_time)/60.0\n",
        "print(\"Execution time (mins)\",execution_time)"
      ],
      "execution_count": 259,
      "outputs": [
        {
          "output_type": "stream",
          "text": [
            "Execution time (mins) 0.01852512756983439\n"
          ],
          "name": "stdout"
        }
      ]
    },
    {
      "cell_type": "code",
      "metadata": {
        "id": "-aHAHJrKKynZ"
      },
      "source": [
        "vocabulary = text_vectorizer.get_vocabulary()\n",
        "vocabulary_size = len(vocabulary)#49462\n",
        "word_index = dict(zip(vocabulary, range(vocabulary_size)))\n",
        "index_word=dict(zip( range(vocabulary_size),vocabulary))"
      ],
      "execution_count": 260,
      "outputs": []
    },
    {
      "cell_type": "code",
      "metadata": {
        "id": "YN07Qi9XLVSh",
        "outputId": "42131768-ee87-4d15-9035-cbbbf015bb16",
        "colab": {
          "base_uri": "https://localhost:8080/",
          "height": 101
        }
      },
      "source": [
        "print(\"Vocabulary:\",vocabulary[:20])\n",
        "print(\"Vocabulary Size:\",len(vocabulary))\n",
        "\n",
        "# Test our text vectorizer\n",
        "test_text = list(text_data.take(1))[0]\n",
        "print(test_text)\n",
        "test_text_vector = text_vectorizer([test_text.numpy()])\n",
        "print(\"Shape:\",test_text_vector.shape)\n",
        "print(test_text_vector[0])"
      ],
      "execution_count": 264,
      "outputs": [
        {
          "output_type": "stream",
          "text": [
            "Vocabulary: ['', '[UNK]', '.', ',', 'the', '!', 'to', 'and', 'a', 'of', ':', 'is', 'in', 'for', 'you', 'i', 'on', '@realdonaldtrump', 'be', 'will']\n",
            "Vocabulary Size: 49462\n",
            "tf.Tensor(b'republicans and democrats have both created our economic problems . ', shape=(), dtype=string)\n",
            "Shape: (1, 10)\n",
            "tf.Tensor([ 220    7  102   28  348 1167   27  523  671    2], shape=(10,), dtype=int64)\n"
          ],
          "name": "stdout"
        }
      ]
    },
    {
      "cell_type": "code",
      "metadata": {
        "id": "ehXFSGDWH9tj",
        "outputId": "733042b7-2639-4f4d-bcbf-4707fab03ef1",
        "colab": {
          "base_uri": "https://localhost:8080/",
          "height": 34
        }
      },
      "source": [
        "type([test_text.numpy()])"
      ],
      "execution_count": 268,
      "outputs": [
        {
          "output_type": "execute_result",
          "data": {
            "text/plain": [
              "list"
            ]
          },
          "metadata": {
            "tags": []
          },
          "execution_count": 268
        }
      ]
    },
    {
      "cell_type": "code",
      "metadata": {
        "id": "nl1WvtYAIHLC",
        "outputId": "56d91c91-3ff2-45ae-f087-d27f51b8a865",
        "colab": {
          "base_uri": "https://localhost:8080/",
          "height": 35
        }
      },
      "source": [
        "trump_no_ret.text[0]"
      ],
      "execution_count": 269,
      "outputs": [
        {
          "output_type": "execute_result",
          "data": {
            "application/vnd.google.colaboratory.intrinsic+json": {
              "type": "string"
            },
            "text/plain": [
              "'republicans and democrats have both created our economic problems . '"
            ]
          },
          "metadata": {
            "tags": []
          },
          "execution_count": 269
        }
      ]
    },
    {
      "cell_type": "code",
      "metadata": {
        "id": "gUJrQgVDbIoO",
        "outputId": "fe84bf05-0318-4a33-d837-68301df3007a",
        "colab": {
          "base_uri": "https://localhost:8080/",
          "height": 34
        }
      },
      "source": [
        "start_time = time.time()\n",
        "tokenized_text=trump_no_ret.text.map(lambda x: text_vectorizer([x]).numpy())\n",
        "execution_time = (time.time() - start_time)/60.0\n",
        "print(\"Execution time (mins)\",execution_time)"
      ],
      "execution_count": 272,
      "outputs": [
        {
          "output_type": "stream",
          "text": [
            "Execution time (mins) 3.046544631322225\n"
          ],
          "name": "stdout"
        }
      ]
    },
    {
      "cell_type": "code",
      "metadata": {
        "id": "3gjKI2ridFTs",
        "outputId": "3230c59c-d24a-48aa-882e-21f5420990d5",
        "colab": {
          "base_uri": "https://localhost:8080/",
          "height": 118
        }
      },
      "source": [
        "tokenized_text=tokenized_text.map(lambda x: x[0])\n",
        "tokenized_text.head()"
      ],
      "execution_count": 274,
      "outputs": [
        {
          "output_type": "execute_result",
          "data": {
            "text/plain": [
              "0        [220, 7, 102, 28, 348, 1167, 27, 523, 671, 2]\n",
              "1    [15, 37, 2054, 6, 18, 97, 12, 4, 20, 510, 9, 2...\n",
              "3    [4, 5290, 2917, 12, 1484, 722, 11, 8, 401, 150...\n",
              "5    [42, 14, 6, 39, 9, 4, 20, 129, 1456, 12, 4, 71...\n",
              "7    [554, 324, 50, 8, 386, 275, 3, 13, 4, 349, 2, ...\n",
              "Name: text, dtype: object"
            ]
          },
          "metadata": {
            "tags": []
          },
          "execution_count": 274
        }
      ]
    },
    {
      "cell_type": "code",
      "metadata": {
        "id": "4dcoe6w2hWrY"
      },
      "source": [
        "validation_percent = 0.20\n",
        "\n",
        "# Split data into train / validate\n",
        "train_tokenized_text, validate_tokenized_text = train_test_split(tokenized_text, test_size=validation_percent)"
      ],
      "execution_count": 275,
      "outputs": []
    },
    {
      "cell_type": "code",
      "metadata": {
        "id": "XGE3BlgTorgz",
        "outputId": "c8a212ec-c037-4459-8be6-fdb7dbf8b95c",
        "colab": {
          "base_uri": "https://localhost:8080/",
          "height": 34
        }
      },
      "source": [
        "start_time = time.time()\n",
        "seed_len=5\n",
        "train_x=[]\n",
        "train_y=[]\n",
        "for row in train_tokenized_text:\n",
        "    if len(row)<=seed_len:\n",
        "      x,y = np.pad(row,(0,seed_len-len(row)),'constant'),0\n",
        "      train_x.append(x)\n",
        "      train_y.append(y)\n",
        "    else: \n",
        "      for i in range(len(row)-seed_len):\n",
        "        x,y= row[i:i+seed_len],row[i+seed_len]\n",
        "        train_x.append(x)\n",
        "        train_y.append(y)\n",
        "train_y=np.array(train_y)\n",
        "execution_time = (time.time() - start_time)/60.0\n",
        "print(\"Execution time (mins)\",execution_time)"
      ],
      "execution_count": 276,
      "outputs": [
        {
          "output_type": "stream",
          "text": [
            "Execution time (mins) 0.013580727577209472\n"
          ],
          "name": "stdout"
        }
      ]
    },
    {
      "cell_type": "code",
      "metadata": {
        "id": "Z-ljFfj_p4-F",
        "outputId": "be956229-e9a3-4d6a-abf3-d4853fca924d",
        "colab": {
          "base_uri": "https://localhost:8080/",
          "height": 34
        }
      },
      "source": [
        "start_time = time.time()\n",
        "seed_len=5\n",
        "val_x=[]\n",
        "val_y=[]\n",
        "for row in validate_tokenized_text:\n",
        "    if len(row)<=seed_len:\n",
        "      x,y = np.pad(row,(0,seed_len-len(row)),'constant'),0\n",
        "      val_x.append(x)\n",
        "      val_y.append(y)\n",
        "    else: \n",
        "      for i in range(len(row)-seed_len):\n",
        "        x,y= row[i:i+seed_len],row[i+seed_len]\n",
        "        val_x.append(x)\n",
        "        val_y.append(y)\n",
        "\n",
        "execution_time = (time.time() - start_time)/60.0\n",
        "print(\"Execution time (mins)\",execution_time)"
      ],
      "execution_count": 277,
      "outputs": [
        {
          "output_type": "stream",
          "text": [
            "Execution time (mins) 0.003100156784057617\n"
          ],
          "name": "stdout"
        }
      ]
    },
    {
      "cell_type": "code",
      "metadata": {
        "id": "QWxwZtlswGdM",
        "outputId": "bd17ce50-68fc-43b9-8c6d-e451aed9a35d",
        "colab": {
          "base_uri": "https://localhost:8080/",
          "height": 34
        }
      },
      "source": [
        "np.array(train_y).shape"
      ],
      "execution_count": 278,
      "outputs": [
        {
          "output_type": "execute_result",
          "data": {
            "text/plain": [
              "(669386,)"
            ]
          },
          "metadata": {
            "tags": []
          },
          "execution_count": 278
        }
      ]
    },
    {
      "cell_type": "code",
      "metadata": {
        "id": "8pYMNgW3qmar"
      },
      "source": [
        "batch_size = 1024\n",
        "train_data = tf.data.Dataset.from_tensor_slices((train_x, np.array(train_y))).batch(batch_size).prefetch(512)\n",
        "validation_data = tf.data.Dataset.from_tensor_slices((val_x, val_y)).batch(batch_size).prefetch(512)\n"
      ],
      "execution_count": 279,
      "outputs": []
    },
    {
      "cell_type": "markdown",
      "metadata": {
        "id": "WIQYqDHKk90U"
      },
      "source": [
        "The RNN, with LSTM and embedding."
      ]
    },
    {
      "cell_type": "code",
      "metadata": {
        "id": "WbAsLLRLj0r7"
      },
      "source": [
        "def LSTM_model():\n",
        "  input=layers.Input(shape=(seed_len,))\n",
        "  embedding=layers.Embedding(vocabulary_size,50)(input)\n",
        "  lstm=layers.LSTM(128)(embedding)\n",
        "  drop=layers.Dropout(0.1)(lstm)\n",
        "  output=layers.Dense(vocabulary_size,activation='softmax')(drop)\n",
        "  model=Model(input,output)\n",
        "  return model\n",
        "\n"
      ],
      "execution_count": 293,
      "outputs": []
    },
    {
      "cell_type": "code",
      "metadata": {
        "id": "6TLsby_fl2jn",
        "outputId": "57d52031-adf2-462e-c4a7-a67d17feb163",
        "colab": {
          "base_uri": "https://localhost:8080/",
          "height": 319
        }
      },
      "source": [
        "trump_rnn=LSTM_model()\n",
        "trump_rnn.summary()"
      ],
      "execution_count": 294,
      "outputs": [
        {
          "output_type": "stream",
          "text": [
            "Model: \"functional_11\"\n",
            "_________________________________________________________________\n",
            "Layer (type)                 Output Shape              Param #   \n",
            "=================================================================\n",
            "input_6 (InputLayer)         [(None, 5)]               0         \n",
            "_________________________________________________________________\n",
            "embedding_5 (Embedding)      (None, 5, 50)             2473100   \n",
            "_________________________________________________________________\n",
            "lstm_5 (LSTM)                (None, 128)               91648     \n",
            "_________________________________________________________________\n",
            "dropout_5 (Dropout)          (None, 128)               0         \n",
            "_________________________________________________________________\n",
            "dense_5 (Dense)              (None, 49462)             6380598   \n",
            "=================================================================\n",
            "Total params: 8,945,346\n",
            "Trainable params: 8,945,346\n",
            "Non-trainable params: 0\n",
            "_________________________________________________________________\n"
          ],
          "name": "stdout"
        }
      ]
    },
    {
      "cell_type": "code",
      "metadata": {
        "id": "bRGk0UC_l70X"
      },
      "source": [
        "learning_rate = 0.001\n",
        "epochs = 100\n",
        "\n",
        "optimizer = optimizers.Adam(learning_rate=learning_rate)\n",
        "loss=losses.SparseCategoricalCrossentropy()\n",
        "\n",
        "trump_rnn.compile(loss=loss,optimizer=optimizer, metrics=['accuracy'])"
      ],
      "execution_count": 295,
      "outputs": []
    },
    {
      "cell_type": "code",
      "metadata": {
        "id": "2zB0rSRsmSaF",
        "outputId": "e67bdf98-126d-4580-9b2c-684cab4ddd7f",
        "colab": {
          "base_uri": "https://localhost:8080/",
          "height": 638
        }
      },
      "source": [
        "early_stopping = tf.keras.callbacks.EarlyStopping(\n",
        "    monitor='val_loss', min_delta=0, patience=5, verbose=0, mode='auto',restore_best_weights=True\n",
        ")\n",
        "\n",
        "start_time = time.time()\n",
        "training_results = trump_rnn.fit(\n",
        "        train_data,\n",
        "        validation_data=validation_data,\n",
        "        epochs=epochs, \n",
        "        callbacks=early_stopping,\n",
        "        verbose=1)\n",
        "execution_time = (time.time() - start_time)/60.0\n",
        "print(\"Training execution time (mins)\",execution_time)"
      ],
      "execution_count": 296,
      "outputs": [
        {
          "output_type": "stream",
          "text": [
            "Epoch 1/100\n",
            "654/654 [==============================] - 33s 50ms/step - loss: 6.9465 - accuracy: 0.0701 - val_loss: 6.6034 - val_accuracy: 0.0730\n",
            "Epoch 2/100\n",
            "654/654 [==============================] - 32s 49ms/step - loss: 6.3781 - accuracy: 0.0933 - val_loss: 6.2886 - val_accuracy: 0.1035\n",
            "Epoch 3/100\n",
            "654/654 [==============================] - 32s 49ms/step - loss: 6.0420 - accuracy: 0.1159 - val_loss: 6.0410 - val_accuracy: 0.1267\n",
            "Epoch 4/100\n",
            "654/654 [==============================] - 33s 50ms/step - loss: 5.7620 - accuracy: 0.1404 - val_loss: 5.8381 - val_accuracy: 0.1510\n",
            "Epoch 5/100\n",
            "654/654 [==============================] - 32s 49ms/step - loss: 5.5315 - accuracy: 0.1619 - val_loss: 5.7021 - val_accuracy: 0.1644\n",
            "Epoch 6/100\n",
            "654/654 [==============================] - 33s 50ms/step - loss: 5.3490 - accuracy: 0.1756 - val_loss: 5.6097 - val_accuracy: 0.1733\n",
            "Epoch 7/100\n",
            "654/654 [==============================] - 32s 49ms/step - loss: 5.1945 - accuracy: 0.1855 - val_loss: 5.5429 - val_accuracy: 0.1789\n",
            "Epoch 8/100\n",
            "654/654 [==============================] - 32s 49ms/step - loss: 5.0609 - accuracy: 0.1952 - val_loss: 5.4931 - val_accuracy: 0.1840\n",
            "Epoch 9/100\n",
            "654/654 [==============================] - 33s 50ms/step - loss: 4.9395 - accuracy: 0.2038 - val_loss: 5.4567 - val_accuracy: 0.1878\n",
            "Epoch 10/100\n",
            "654/654 [==============================] - 32s 49ms/step - loss: 4.8277 - accuracy: 0.2120 - val_loss: 5.4312 - val_accuracy: 0.1913\n",
            "Epoch 11/100\n",
            "654/654 [==============================] - 32s 50ms/step - loss: 4.7264 - accuracy: 0.2185 - val_loss: 5.4136 - val_accuracy: 0.1940\n",
            "Epoch 12/100\n",
            "654/654 [==============================] - 32s 49ms/step - loss: 4.6320 - accuracy: 0.2250 - val_loss: 5.4025 - val_accuracy: 0.1965\n",
            "Epoch 13/100\n",
            "654/654 [==============================] - 33s 50ms/step - loss: 4.5451 - accuracy: 0.2309 - val_loss: 5.3977 - val_accuracy: 0.1987\n",
            "Epoch 14/100\n",
            "654/654 [==============================] - 32s 49ms/step - loss: 4.4604 - accuracy: 0.2375 - val_loss: 5.3999 - val_accuracy: 0.1995\n",
            "Epoch 15/100\n",
            "654/654 [==============================] - 32s 49ms/step - loss: 4.3819 - accuracy: 0.2435 - val_loss: 5.4044 - val_accuracy: 0.2007\n",
            "Epoch 16/100\n",
            "654/654 [==============================] - 32s 49ms/step - loss: 4.3089 - accuracy: 0.2492 - val_loss: 5.4124 - val_accuracy: 0.2024\n",
            "Epoch 17/100\n",
            "654/654 [==============================] - 32s 49ms/step - loss: 4.2377 - accuracy: 0.2556 - val_loss: 5.4254 - val_accuracy: 0.2031\n",
            "Epoch 18/100\n",
            "654/654 [==============================] - 32s 49ms/step - loss: 4.1708 - accuracy: 0.2618 - val_loss: 5.4376 - val_accuracy: 0.2038\n",
            "Training execution time (mins) 9.738909033934275\n"
          ],
          "name": "stdout"
        }
      ]
    },
    {
      "cell_type": "code",
      "metadata": {
        "id": "FYqpK59-mct0"
      },
      "source": [
        "def evaluate_model(model, training_results):\n",
        "    \n",
        "  # Get the model train history\n",
        "  model_train_history = training_results.history\n",
        "  # Get the number of epochs the training was run for\n",
        "  num_epochs = len(model_train_history[\"loss\"])\n",
        "\n",
        "  # Plot training results\n",
        "  fig = plt.figure(figsize=(15,5))\n",
        "  axs = fig.add_subplot(1,2,1)\n",
        "  axs.set_title('Loss')\n",
        "  # Plot all metrics\n",
        "  for metric in [\"loss\",\"val_loss\"]:\n",
        "      axs.plot(np.arange(0, num_epochs), model_train_history[metric], label=metric)\n",
        "  axs.legend()\n",
        "  \n",
        "  axs = fig.add_subplot(1,2,2)\n",
        "  axs.set_title('Accuracy')\n",
        "  # Plot all metrics\n",
        "  for metric in [\"accuracy\",\"val_accuracy\"]:\n",
        "      axs.plot(np.arange(0, num_epochs), model_train_history[metric], label=metric)\n",
        "  axs.legend()\n",
        "\n",
        "  plt.show()"
      ],
      "execution_count": 297,
      "outputs": []
    },
    {
      "cell_type": "code",
      "metadata": {
        "id": "1F3SAB0D1Shd",
        "outputId": "7dd140c2-60d4-45c1-ad88-b1241e23377a",
        "colab": {
          "base_uri": "https://localhost:8080/",
          "height": 336
        }
      },
      "source": [
        "evaluate_model(trump_rnn,training_results)"
      ],
      "execution_count": 298,
      "outputs": [
        {
          "output_type": "display_data",
          "data": {
            "image/png": "[encoded data removed]",
            "text/plain": [
              "<Figure size 1080x360 with 2 Axes>"
            ]
          },
          "metadata": {
            "tags": [],
            "needs_background": "light"
          }
        }
      ]
    },
    {
      "cell_type": "code",
      "metadata": {
        "id": "HESRL4qq1W4M"
      },
      "source": [
        "def next_word(pred,temp=1):\n",
        "  pred=np.array(pred[0]).astype('float64')\n",
        "  pred=np.log(pred)/temp\n",
        "  pred=np.exp(pred)\n",
        "  pred=pred/np.sum(pred)\n",
        "  next_word=np.random.multinomial(1,pred)\n",
        "  return np.argmax(next_word)\n",
        "\n",
        "def generate_tweet(seed,target_len=20,temp=1):\n",
        "  #target length is 20 because the mode of tweet length is 20 \n",
        "  seed=seed.split()\n",
        "  \n",
        "  if len(seed)>=seed_len:\n",
        "    seed=seed[:seed_len]\n",
        "    seed_token=[word_index[word] for word in seed]#list\n",
        "    \n",
        "  if len(seed)<seed_len:\n",
        "    #randomly choose padding\n",
        "    seed_token=[word_index[word] for word in seed]\n",
        "    pad_num=seed_len-len(seed)\n",
        "    for i in range(pad_num):\n",
        "      invalid=True\n",
        "      while invalid:\n",
        "        pick_token=np.random.choice(range(vocabulary_size))\n",
        "        pick_word=index_word[pick_token]\n",
        "        if pick_word not in ['','[UNK]','.','?','!']:\n",
        "          invalid=False\n",
        "      seed_token.append(pick_token)\n",
        "  generated_tweet=' '.join([index_word[index] for index in seed_token])\n",
        "  for i in range(target_len):\n",
        "    \n",
        "    current_seed=np.array([seed_token])#1 X seed_len\n",
        "    preds=trump_rnn.predict(current_seed)#1 X vocabulary_size\n",
        "    nextword_token=next_word(preds,temp)\n",
        "    nextword=index_word[nextword_token]\n",
        "    generated_tweet=generated_tweet+' '+nextword\n",
        "    if nextword in ['','[UNK]','.','?','!']:\n",
        "      print('Early ended')\n",
        "      return generated_tweet\n",
        "    else:\n",
        "      seed_token=seed_token[1:]\n",
        "      seed_token.append(nextword_token)\n",
        "    \n",
        "  return generated_tweet\n",
        "\n"
      ],
      "execution_count": 356,
      "outputs": []
    },
    {
      "cell_type": "markdown",
      "metadata": {
        "id": "w6vjkr93SMco"
      },
      "source": [
        "Generating \"fake\" Trump's tweets"
      ]
    },
    {
      "cell_type": "code",
      "metadata": {
        "id": "eQf6ERSfO3bn",
        "outputId": "c382db30-61f9-4031-ef4d-f1b39a58b124",
        "colab": {
          "base_uri": "https://localhost:8080/",
          "height": 52
        }
      },
      "source": [
        "generate_tweet('i will be')"
      ],
      "execution_count": 357,
      "outputs": [
        {
          "output_type": "stream",
          "text": [
            "Early ended\n"
          ],
          "name": "stdout"
        },
        {
          "output_type": "execute_result",
          "data": {
            "application/vnd.google.colaboratory.intrinsic+json": {
              "type": "string"
            },
            "text/plain": [
              "'i will be projecting sneak truth tonight at @lordandtaylor produces .'"
            ]
          },
          "metadata": {
            "tags": []
          },
          "execution_count": 357
        }
      ]
    },
    {
      "cell_type": "markdown",
      "metadata": {
        "id": "VcfXi2FFSDpC"
      },
      "source": [
        "Any insights from embedding layer?"
      ]
    },
    {
      "cell_type": "code",
      "metadata": {
        "id": "1sv7jvqfO3ZZ"
      },
      "source": [
        "embedding_layer_weight = trump_rnn.get_layer(name=\"embedding_5\").get_weights()[0]\n",
        " "
      ],
      "execution_count": 347,
      "outputs": []
    },
    {
      "cell_type": "code",
      "metadata": {
        "id": "Ogb2LDJvO3XR"
      },
      "source": [
        "def find_similar(words, word_index, vocabulary, embedding_layer_weights, topn=5):\n",
        "  subset_word_index  = []\n",
        "  for word in words:\n",
        "    subset_word_index.append(word_index[word])\n",
        " \n",
        "  cs_op = cosine_similarity(embedding_layer_weights[subset_word_index], embedding_layer_weights)\n",
        "  for idx in range(len(words)):\n",
        "    top = cs_op[idx].argsort()[-topn:][::-1]\n",
        "    for i,t in enumerate(top):\n",
        "      if i ==0:\n",
        "        print(\"Similar words for:\",vocabulary[t])\n",
        "      else:\n",
        "        print(\"    \",vocabulary[t])"
      ],
      "execution_count": 348,
      "outputs": []
    },
    {
      "cell_type": "code",
      "metadata": {
        "id": "dDX2K3vPO3Um",
        "outputId": "d82f466e-f843-4dc9-ac4d-56dfd34ef609",
        "colab": {
          "base_uri": "https://localhost:8080/",
          "height": 185
        }
      },
      "source": [
        "find_similar(['hello','trump'],word_index,vocabulary,embedding_layer_weight)"
      ],
      "execution_count": 349,
      "outputs": [
        {
          "output_type": "stream",
          "text": [
            "Similar words for: hello\n",
            "     happens\n",
            "     belongs\n",
            "     apologize\n",
            "     #nypd\n",
            "Similar words for: trump\n",
            "     #trump\n",
            "     cylindrical\n",
            "     obama\n",
            "     golf--trump\n"
          ],
          "name": "stdout"
        }
      ]
    },
    {
      "cell_type": "markdown",
      "metadata": {
        "id": "lUD9nza_TIaZ"
      },
      "source": [
        "## Save the model"
      ]
    },
    {
      "cell_type": "code",
      "metadata": {
        "id": "nwy7d3J-THRS"
      },
      "source": [
        "trump_rnn.save('trump_rnn_model.h5') "
      ],
      "execution_count": 359,
      "outputs": []
    },
    {
      "cell_type": "code",
      "metadata": {
        "id": "WyEVc9niTf1B"
      },
      "source": [
        ""
      ],
      "execution_count": null,
      "outputs": []
    }
  ]
}